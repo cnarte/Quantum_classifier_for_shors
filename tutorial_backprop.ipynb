{
  "cells": [
    {
      "cell_type": "code",
      "execution_count": 1,
      "metadata": {
        "collapsed": false
      },
      "outputs": [],
      "source": [
        "# This cell is added by sphinx-gallery\n",
        "# It can be customized to whatever you like\n",
        "%matplotlib inline"
      ]
    },
    {
      "cell_type": "markdown",
      "metadata": {},
      "source": [
        "\n",
        "Quantum gradients with backpropagation\n",
        "======================================\n",
        "\n",
        ".. meta::\n",
        "    :property=\"og:description\": Using backpropagation can speed up training of quantum circuits compared to the parameter-shift rule—if you are using a simulator.\n",
        "\n",
        "    :property=\"og:image\": https://pennylane.ai/qml/_images/sphx_glr_tutorial_backprop_002.png\n",
        "\n",
        ".. related::\n",
        "\n",
        "   tutorial_quantum_natural_gradient Quantum natural gradient\n",
        "\n",
        "In PennyLane, any quantum device, whether a hardware device or a simulator, can be\n",
        "trained using the :doc:`parameter-shift rule </glossary/parameter_shift>` to compute quantum\n",
        "gradients. Indeed, the parameter-shift rule is ideally suited to hardware devices, as it does\n",
        "not require any knowledge about the internal workings of the device; it is sufficient to treat\n",
        "the device as a 'black box', and to query it with different input values in order to determine the gradient.\n",
        "\n",
        "When working with simulators, however, we *do* have access to the internal (classical)\n",
        "computations being performed. This allows us to take advantage of other methods of computing the\n",
        "gradient, such as backpropagation, which may be advantageous in certain regimes. In this tutorial,\n",
        "we will compare and contrast the parameter-shift rule against backpropagation, using\n",
        "the PennyLane :class:`default.qubit.tf <pennylane.devices.default_qubit_tf.DefaultQubitTF>`\n",
        "device.\n",
        "\n",
        "The parameter-shift rule\n",
        "------------------------\n",
        "\n",
        "The parameter-shift rule states that, given a variational quantum circuit $U(\\boldsymbol\n",
        "\\theta)$ composed of parametrized Pauli rotations, and some measured observable $\\hat{B}$, the\n",
        "derivative of the expectation value\n",
        "\n",
        "\\begin{align}\\langle \\hat{B} \\rangle (\\boldsymbol\\theta) =\n",
        "    \\langle 0 \\vert U(\\boldsymbol\\theta)^\\dagger \\hat{B} U(\\boldsymbol\\theta) \\vert 0\\rangle\\end{align}\n",
        "\n",
        "with respect to the input circuit parameters $\\boldsymbol{\\theta}$ is given by\n",
        "\n",
        "\\begin{align}\\nabla_{\\theta_i}\\langle \\hat{B} \\rangle(\\boldsymbol\\theta)\n",
        "      =  \\frac{1}{2}\n",
        "            \\left[\n",
        "                \\langle \\hat{B} \\rangle\\left(\\boldsymbol\\theta + \\frac{\\pi}{2}\\hat{\\mathbf{e}}_i\\right)\n",
        "              - \\langle \\hat{B} \\rangle\\left(\\boldsymbol\\theta - \\frac{\\pi}{2}\\hat{\\mathbf{e}}_i\\right)\n",
        "            \\right].\\end{align}\n",
        "\n",
        "Thus, the gradient of the expectation value can be calculated by evaluating the same variational\n",
        "quantum circuit, but with shifted parameter values (hence the name, parameter-shift rule!).\n",
        "\n",
        "Let's have a go implementing the parameter-shift rule manually in PennyLane.\n"
      ]
    },
    {
      "cell_type": "code",
      "execution_count": 4,
      "metadata": {
        "collapsed": false
      },
      "outputs": [],
      "source": [
        "import numpy as np\n",
        "import pennylane as qml\n",
        "\n",
        "# set the random seed\n",
        "np.random.seed(42)\n",
        "\n",
        "# create a device to execute the circuit on\n",
        "dev = qml.device(\"default.qubit\", wires=3)\n",
        "\n",
        "@qml.qnode(dev, diff_method=\"parameter-shift\")\n",
        "def circuit(params):\n",
        "    qml.RX(params[0], wires=0)\n",
        "    qml.RY(params[1], wires=1)\n",
        "    qml.RZ(params[2], wires=2)\n",
        "\n",
        "    qml.broadcast(qml.CNOT, wires=[0, 1, 2], pattern=\"ring\")\n",
        "\n",
        "    qml.RX(params[3], wires=0)\n",
        "    qml.RY(params[4], wires=1)\n",
        "    qml.RZ(params[5], wires=2)\n",
        "\n",
        "    qml.broadcast(qml.CNOT, wires=[0, 1, 2], pattern=\"ring\")\n",
        "    return qml.expval(qml.PauliY(0) @ qml.PauliZ(2))"
      ]
    },
    {
      "cell_type": "markdown",
      "metadata": {},
      "source": [
        "Let's test the variational circuit evaluation with some parameter input:\n",
        "\n"
      ]
    },
    {
      "cell_type": "code",
      "execution_count": 2,
      "metadata": {
        "collapsed": false
      },
      "outputs": [
        {
          "output_type": "stream",
          "name": "stdout",
          "text": [
            "Parameters: [0.37454012 0.95071431 0.73199394 0.59865848 0.15601864 0.15599452]\nExpectation value: -0.11971365706871569\n"
          ]
        }
      ],
      "source": [
        "# initial parameters\n",
        "params = np.random.random([6])\n",
        "\n",
        "print(\"Parameters:\", params)\n",
        "print(\"Expectation value:\", circuit(params))"
      ]
    },
    {
      "cell_type": "markdown",
      "metadata": {},
      "source": [
        "We can also draw the executed quantum circuit:\n",
        "\n"
      ]
    },
    {
      "cell_type": "code",
      "execution_count": null,
      "metadata": {
        "collapsed": false
      },
      "outputs": [],
      "source": [
        "print(circuit.draw())"
      ]
    },
    {
      "cell_type": "markdown",
      "metadata": {},
      "source": [
        "Now that we have defined our variational circuit QNode, we can construct\n",
        "a function that computes the gradient of the $i\\text{th}$ parameter\n",
        "using the parameter-shift rule.\n",
        "\n"
      ]
    },
    {
      "cell_type": "code",
      "execution_count": null,
      "metadata": {
        "collapsed": false
      },
      "outputs": [],
      "source": [
        "def parameter_shift_term(qnode, params, i):\n",
        "    shifted = params.copy()\n",
        "    shifted[i] += np.pi/2\n",
        "    forward = qnode(shifted)  # forward evaluation\n",
        "\n",
        "    shifted[i] -= np.pi\n",
        "    backward = qnode(shifted) # backward evaluation\n",
        "\n",
        "    return 0.5 * (forward - backward)\n",
        "\n",
        "# gradient with respect to the first parameter\n",
        "print(parameter_shift_term(circuit, params, 0))"
      ]
    },
    {
      "cell_type": "markdown",
      "metadata": {},
      "source": [
        "In order to compute the gradient with respect to *all* parameters, we need\n",
        "to loop over the index ``i``:\n",
        "\n"
      ]
    },
    {
      "cell_type": "code",
      "execution_count": null,
      "metadata": {
        "collapsed": false
      },
      "outputs": [],
      "source": [
        "def parameter_shift(qnode, params):\n",
        "    gradients = np.zeros([len(params)])\n",
        "\n",
        "    for i in range(len(params)):\n",
        "        gradients[i] = parameter_shift_term(qnode, params, i)\n",
        "\n",
        "    return gradients\n",
        "\n",
        "print(parameter_shift(circuit, params))"
      ]
    },
    {
      "cell_type": "markdown",
      "metadata": {},
      "source": [
        "We can compare this to PennyLane's *built-in* parameter-shift feature by using\n",
        "the :func:`qml.grad <pennylane.grad>` function. Remember, when we defined the\n",
        "QNode, we specified that we wanted it to be differentiable using the parameter-shift\n",
        "method (``diff_method=\"parameter-shift\"``).\n",
        "\n"
      ]
    },
    {
      "cell_type": "code",
      "execution_count": null,
      "metadata": {
        "collapsed": false
      },
      "outputs": [],
      "source": [
        "grad_function = qml.grad(circuit)\n",
        "print(grad_function(params)[0])"
      ]
    },
    {
      "cell_type": "markdown",
      "metadata": {},
      "source": [
        "If you count the number of quantum evaluations, you will notice that we had to evaluate the circuit\n",
        "``2*len(params)`` number of times in order to compute the quantum gradient with respect to all\n",
        "parameters. While reasonably fast for a small number of parameters, as the number of parameters in\n",
        "our quantum circuit grows, so does both\n",
        "\n",
        "1. the circuit depth (and thus the time taken to evaluate each expectation value or 'forward' pass), and\n",
        "\n",
        "2. the number of parameter-shift evaluations required.\n",
        "\n",
        "Both of these factors increase the time taken to compute the gradient with\n",
        "respect to all parameters.\n",
        "\n",
        "Benchmarking\n",
        "~~~~~~~~~~~~\n",
        "\n",
        "Let's consider an example with a significantly larger number of parameters.\n",
        "We'll make use of the :class:`~pennylane.templates.StronglyEntanglingLayers` template\n",
        "to make a more complicated QNode.\n",
        "\n"
      ]
    },
    {
      "cell_type": "code",
      "execution_count": null,
      "metadata": {
        "collapsed": false
      },
      "outputs": [],
      "source": [
        "dev = qml.device(\"default.qubit\", wires=4)\n",
        "\n",
        "@qml.qnode(dev, diff_method=\"parameter-shift\", mutable=False)\n",
        "def circuit(params):\n",
        "    qml.templates.StronglyEntanglingLayers(params, wires=[0, 1, 2, 3])\n",
        "    return qml.expval(qml.PauliZ(0) @ qml.PauliZ(1) @ qml.PauliZ(2) @ qml.PauliZ(3))"
      ]
    },
    {
      "cell_type": "markdown",
      "metadata": {},
      "source": [
        "Note that we specify that the QNode is **immutable**. This is more restrictive\n",
        "than a standard mutable QNode (the quantum circuit cannot change/differ between\n",
        "executions); however, it reduces processing overhead.\n",
        "\n"
      ]
    },
    {
      "cell_type": "code",
      "execution_count": null,
      "metadata": {
        "collapsed": false
      },
      "outputs": [],
      "source": [
        "# initialize circuit parameters\n",
        "params = qml.init.strong_ent_layers_normal(n_wires=4, n_layers=15)\n",
        "print(params.size)\n",
        "print(circuit(params))"
      ]
    },
    {
      "cell_type": "markdown",
      "metadata": {},
      "source": [
        "This circuit has 180 parameters. Let's see how long it takes to perform a forward\n",
        "pass of the circuit.\n",
        "\n"
      ]
    },
    {
      "cell_type": "code",
      "execution_count": null,
      "metadata": {
        "collapsed": false
      },
      "outputs": [],
      "source": [
        "import timeit\n",
        "\n",
        "reps = 3\n",
        "num = 10\n",
        "times = timeit.repeat(\"circuit(params)\", globals=globals(), number=num, repeat=reps)\n",
        "forward_time = min(times) / num\n",
        "\n",
        "print(f\"Forward pass (best of {reps}): {forward_time} sec per loop\")"
      ]
    },
    {
      "cell_type": "markdown",
      "metadata": {},
      "source": [
        "We can now estimate the time taken to compute the full gradient vector,\n",
        "and see how this compares.\n",
        "\n"
      ]
    },
    {
      "cell_type": "code",
      "execution_count": null,
      "metadata": {
        "collapsed": false
      },
      "outputs": [],
      "source": [
        "# create the gradient function\n",
        "grad_fn = qml.grad(circuit)\n",
        "\n",
        "times = timeit.repeat(\"grad_fn(params)\", globals=globals(), number=num, repeat=reps)\n",
        "backward_time = min(times) / num\n",
        "\n",
        "print(f\"Gradient computation (best of {reps}): {backward_time} sec per loop\")"
      ]
    },
    {
      "cell_type": "markdown",
      "metadata": {},
      "source": [
        "Based on the parameter-shift rule, we expect that the amount of time to compute the quantum\n",
        "gradients should be approximately $2p\\Delta t_{f}$ where $p$ is the number of\n",
        "parameters and $\\Delta t_{f}$ if the time taken for the forward pass. Let's verify this:\n",
        "\n"
      ]
    },
    {
      "cell_type": "code",
      "execution_count": null,
      "metadata": {
        "collapsed": false
      },
      "outputs": [],
      "source": [
        "print(2 * forward_time * params.size)"
      ]
    },
    {
      "cell_type": "markdown",
      "metadata": {},
      "source": [
        "Backpropagation\n",
        "---------------\n",
        "\n",
        "An alternative to the parameter-shift rule for computing gradients is\n",
        "`reverse-mode autodifferentiation <https://en.wikipedia.org/wiki/Reverse_accumulation>`__. \n",
        "Unlike the parameter-shift method, which requires $2p$ circuit evaluations for \n",
        "$p$ parameters, reverse-mode requires only a *single* forward pass of the \n",
        "differentiable function to compute\n",
        "the gradient of all variables, at the expense of increased memory usage. \n",
        "During the forward pass, the results of all intermediate subexpressions are stored; \n",
        "the computation is then traversed *in reverse*, with the gradient computed by repeatedly\n",
        "applying the chain rule. \n",
        "In most classical machine learning settings (where we are training scalar loss functions \n",
        "consisting of a large number of parameters), \n",
        "reverse-mode autodifferentiation is the\n",
        "preferred method of autodifferentiation---the reduction in computational time enables larger and\n",
        "more complex models to be successfully trained. The backpropagation algorithm is a particular\n",
        "special-case of reverse-mode autodifferentiation, which has helped lead to the machine learning\n",
        "explosion we see today.\n",
        "\n",
        "In quantum machine learning, however, the inability to store and utilize the results of\n",
        "*intermediate* quantum operations on hardware remains a barrier to using backprop; \n",
        "while reverse-mode\n",
        "autodifferentiation works fine for small quantum simulations, only the\n",
        "parameter-shift rule can be used to compute gradients on quantum hardware directly. Nevertheless,\n",
        "when training quantum models via classical simulation, it's useful to explore the regimes where\n",
        "reverse-mode differentiation may be a better choice than the parameter-shift rule.\n",
        "\n",
        "Benchmarking\n",
        "~~~~~~~~~~~~\n",
        "\n",
        "When creating a QNode, :doc:`PennyLane supports various methods of differentiation\n",
        "<code/api/pennylane.qnode>`, including ``\"parameter-shift\"`` (which we used previously),\n",
        "``\"finite-diff\"``, ``\"reversible\"``, and ``\"backprop\"``. While ``\"parameter-shift\"`` works with all devices\n",
        "(simulator or hardware), ``\"backprop\"`` will only work for specific simulator devices that are\n",
        "designed to support backpropagation.\n",
        "\n",
        "One such device is :class:`default.qubit.tf <pennylane.devices.default_qubit_tf.DefaultQubitTF>`.\n",
        "This device is a pure state-vector simulator like ``default.qubit``; however, unlike\n",
        "``default.qubit``, is written using TensorFlow rather than NumPy. As a result, it supports\n",
        "classical backpropagation when using the TensorFlow interface.\n",
        "\n"
      ]
    },
    {
      "cell_type": "code",
      "execution_count": null,
      "metadata": {
        "collapsed": false
      },
      "outputs": [],
      "source": [
        "import tensorflow as tf\n",
        "\n",
        "dev = qml.device(\"default.qubit.tf\", wires=4)"
      ]
    },
    {
      "cell_type": "markdown",
      "metadata": {},
      "source": [
        "When defining the QNode, we specify ``diff_method=\"backprop\"`` to ensure that\n",
        "we are using backpropagation mode. Note that this will be the *default differentiation\n",
        "mode* for the ``default.qubit.tf`` device when ``interface=\"tf\"``.\n",
        "\n"
      ]
    },
    {
      "cell_type": "code",
      "execution_count": null,
      "metadata": {
        "collapsed": false
      },
      "outputs": [],
      "source": [
        "@qml.qnode(dev, diff_method=\"backprop\", interface=\"tf\")\n",
        "def circuit(params):\n",
        "    qml.templates.StronglyEntanglingLayers(params, wires=[0, 1, 2, 3])\n",
        "    return qml.expval(qml.PauliZ(0) @ qml.PauliZ(1) @ qml.PauliZ(2) @ qml.PauliZ(3))\n",
        "\n",
        "# initialize circuit parameters\n",
        "params = qml.init.strong_ent_layers_normal(n_wires=4, n_layers=15)\n",
        "params = tf.Variable(params)\n",
        "print(circuit(params))"
      ]
    },
    {
      "cell_type": "markdown",
      "metadata": {},
      "source": [
        "Let's see how long it takes to perform a forward pass of the circuit.\n",
        "\n"
      ]
    },
    {
      "cell_type": "code",
      "execution_count": null,
      "metadata": {
        "collapsed": false
      },
      "outputs": [],
      "source": [
        "import timeit\n",
        "\n",
        "reps = 3\n",
        "num = 10\n",
        "times = timeit.repeat(\"circuit(params)\", globals=globals(), number=num, repeat=reps)\n",
        "forward_time = min(times) / num\n",
        "print(f\"Forward pass (best of {reps}): {forward_time} sec per loop\")"
      ]
    },
    {
      "cell_type": "markdown",
      "metadata": {},
      "source": [
        "Comparing this to the forward pass from ``default.qubit``, we note that there is some potential\n",
        "overhead from using TensorFlow. We can now time how long it takes to perform a\n",
        "gradient computation via backpropagation:\n",
        "\n"
      ]
    },
    {
      "cell_type": "code",
      "execution_count": null,
      "metadata": {
        "collapsed": false
      },
      "outputs": [],
      "source": [
        "with tf.GradientTape(persistent=True) as tape:\n",
        "    res = circuit(params)\n",
        "\n",
        "times = timeit.repeat(\"tape.gradient(res, params)\", globals=globals(), number=num, repeat=reps)\n",
        "backward_time = min(times) / num\n",
        "print(f\"Backward pass (best of {reps}): {backward_time} sec per loop\")"
      ]
    },
    {
      "cell_type": "markdown",
      "metadata": {},
      "source": [
        "Unlike with the parameter-shift rule, the time taken to perform the backwards pass appears\n",
        "of the order of a single forward pass! The can significantly speed up training of simulated\n",
        "circuits with many parameters.\n",
        "\n",
        "Time comparison\n",
        "---------------\n",
        "\n",
        "Let's compare the two differentiation approaches as the number of trainable parameters\n",
        "in the variational circuit increases, by timing both the forward pass and the gradient\n",
        "computation as the number of layers is allowed to increase.\n",
        "\n",
        "We'll create two devices; one using ``default.qubit`` for the parameter-shift\n",
        "rule, and ``default.qubit.tf`` for backpropagation. For convenience, we'll use the TensorFlow\n",
        "interface when creating both QNodes.\n",
        "\n"
      ]
    },
    {
      "cell_type": "code",
      "execution_count": null,
      "metadata": {
        "collapsed": false
      },
      "outputs": [],
      "source": [
        "dev_shift = qml.device(\"default.qubit\", wires=4)\n",
        "dev_backprop = qml.device(\"default.qubit.tf\", wires=4)\n",
        "\n",
        "def circuit(params):\n",
        "    qml.templates.StronglyEntanglingLayers(params, wires=[0, 1, 2, 3])\n",
        "    return qml.expval(qml.PauliZ(0) @ qml.PauliZ(1) @ qml.PauliZ(2) @ qml.PauliZ(3))"
      ]
    },
    {
      "cell_type": "markdown",
      "metadata": {},
      "source": [
        "We'll continue to use the same ansatz as before, but to reduce the time taken\n",
        "to collect the data, we'll reduce the number and repetitions of timings per data\n",
        "point. Below, we loop over a variational circuit depth ranging from 0 (no gates/\n",
        "trainable parameters) to 20. Each layer will contain $3N$ parameters, where\n",
        "$N$ is the number of wires (in this case, we have $N=4$).\n",
        "\n"
      ]
    },
    {
      "cell_type": "code",
      "execution_count": null,
      "metadata": {
        "collapsed": false
      },
      "outputs": [],
      "source": [
        "reps = 2\n",
        "num = 3\n",
        "\n",
        "forward_shift = []\n",
        "gradient_shift = []\n",
        "forward_backprop = []\n",
        "gradient_backprop = []\n",
        "\n",
        "for depth in range(0, 21):\n",
        "    params = qml.init.strong_ent_layers_normal(n_wires=4, n_layers=depth)\n",
        "    num_params = params.size\n",
        "    params = tf.Variable(params)\n",
        "\n",
        "    # forward pass timing\n",
        "    # ===================\n",
        "\n",
        "    qnode_shift = qml.QNode(circuit, dev_shift, interface=\"tf\", mutable=False)\n",
        "    qnode_backprop = qml.QNode(circuit, dev_backprop, interface=\"tf\")\n",
        "\n",
        "    # parameter-shift\n",
        "    t = timeit.repeat(\"qnode_shift(params)\", globals=globals(), number=num, repeat=reps)\n",
        "    forward_shift.append([num_params, min(t) / num])\n",
        "\n",
        "    # backprop\n",
        "    t = timeit.repeat(\"qnode_backprop(params)\", globals=globals(), number=num, repeat=reps)\n",
        "    forward_backprop.append([num_params, min(t) / num])\n",
        "\n",
        "    if num_params == 0:\n",
        "        continue\n",
        "\n",
        "    # Gradient timing\n",
        "    # ===============\n",
        "\n",
        "    qnode_shift = qml.QNode(circuit, dev_shift, interface=\"tf\", mutable=False)\n",
        "    qnode_backprop = qml.QNode(circuit, dev_backprop, interface=\"tf\")\n",
        "\n",
        "    # parameter-shift\n",
        "    with tf.GradientTape(persistent=True) as tape:\n",
        "        res = qnode_shift(params)\n",
        "\n",
        "    t = timeit.repeat(\"tape.gradient(res, params)\", globals=globals(), number=num, repeat=reps)\n",
        "    gradient_shift.append([num_params, min(t) / num])\n",
        "\n",
        "    # backprop\n",
        "    with tf.GradientTape(persistent=True) as tape:\n",
        "        res = qnode_backprop(params)\n",
        "\n",
        "    t = timeit.repeat(\"tape.gradient(res, params)\", globals=globals(), number=num, repeat=reps)\n",
        "    gradient_backprop.append([num_params, min(t) / num])\n",
        "\n",
        "gradient_shift = np.array(gradient_shift).T\n",
        "gradient_backprop = np.array(gradient_backprop).T\n",
        "forward_shift = np.array(forward_shift).T\n",
        "forward_backprop = np.array(forward_backprop).T"
      ]
    },
    {
      "cell_type": "markdown",
      "metadata": {},
      "source": [
        "We now import matplotlib, and plot the results.\n",
        "\n"
      ]
    },
    {
      "cell_type": "code",
      "execution_count": null,
      "metadata": {
        "collapsed": false
      },
      "outputs": [],
      "source": [
        "from matplotlib import pyplot as plt\n",
        "plt.style.use(\"bmh\")\n",
        "\n",
        "fig, ax = plt.subplots(1, 1, figsize=(6, 4))\n",
        "\n",
        "ax.plot(*gradient_shift, '.-', label=\"Parameter-shift\")\n",
        "ax.plot(*gradient_backprop, '.-', label=\"Backprop\")\n",
        "ax.set_ylabel(\"Time (s)\")\n",
        "ax.set_xlabel(\"Number of parameters\")\n",
        "ax.legend()\n",
        "\n",
        "plt.show()"
      ]
    },
    {
      "cell_type": "markdown",
      "metadata": {},
      "source": [
        ".. raw:: html\n",
        "\n",
        "    <br>\n",
        "\n",
        "We can see that the computational time for the parameter-shift rule increases with\n",
        "increasing number of parameters, as expected, whereas the computational time\n",
        "for backpropagation appears much more constant, with perhaps a minute linear increase\n",
        "with $p$. Note that the plots are not perfectly linear, with some 'bumpiness' or\n",
        "noisiness. This is likely due to low-level operating system jitter, and\n",
        "other environmental fluctuations---increasing the number of repeats can help smooth\n",
        "out the plot.\n",
        "\n",
        "For a better comparison, we can scale the time required for computing the quantum\n",
        "gradients against the time taken for the corresponding forward pass:\n",
        "\n"
      ]
    },
    {
      "cell_type": "code",
      "execution_count": null,
      "metadata": {
        "collapsed": false
      },
      "outputs": [],
      "source": [
        "gradient_shift[1] /= forward_shift[1, 1:]\n",
        "gradient_backprop[1] /= forward_backprop[1, 1:]\n",
        "\n",
        "fig, ax = plt.subplots(1, 1, figsize=(6, 4))\n",
        "\n",
        "ax.plot(*gradient_shift, '.-', label=\"Parameter-shift\")\n",
        "ax.plot(*gradient_backprop, '.-', label=\"Backprop\")\n",
        "\n",
        "# perform a least squares regression to determine the linear best fit/gradient\n",
        "# for the normalized time vs. number of parameters\n",
        "x = gradient_shift[0]\n",
        "m_shift, c_shift = np.polyfit(*gradient_shift, deg=1)\n",
        "m_back, c_back = np.polyfit(*gradient_backprop, deg=1)\n",
        "\n",
        "ax.plot(x, m_shift * x + c_shift, '--', label=f\"{m_shift:.2f}p{c_shift:+.2f}\")\n",
        "ax.plot(x, m_back * x + c_back, '--', label=f\"{m_back:.2f}p{c_back:+.2f}\")\n",
        "\n",
        "ax.set_ylabel(\"Normalized time\")\n",
        "ax.set_xlabel(\"Number of parameters\")\n",
        "ax.set_xscale(\"log\")\n",
        "ax.set_yscale(\"log\")\n",
        "ax.legend()\n",
        "\n",
        "plt.show()"
      ]
    },
    {
      "cell_type": "markdown",
      "metadata": {},
      "source": [
        ".. raw:: html\n",
        "\n",
        "    <br>\n",
        "\n",
        "We can now see clearly that there is constant overhead for backpropagation with\n",
        "``default.qubit.tf``, but the parameter-shift rule scales as $\\sim 2p$.\n",
        "\n"
      ]
    }
  ],
  "metadata": {
    "kernelspec": {
      "display_name": "Python 3.8.6 64-bit",
      "language": "python",
      "name": "python38664bit1859b86d85684c4d80756b83d0560f08"
    },
    "language_info": {
      "codemirror_mode": {
        "name": "ipython",
        "version": 3
      },
      "file_extension": ".py",
      "mimetype": "text/x-python",
      "name": "python",
      "nbconvert_exporter": "python",
      "pygments_lexer": "ipython3",
      "version": "3.8.6-final"
    }
  },
  "nbformat": 4,
  "nbformat_minor": 0
}